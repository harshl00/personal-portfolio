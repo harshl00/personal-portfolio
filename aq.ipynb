{
 "cells": [
  {
   "cell_type": "code",
   "execution_count": 1,
   "id": "bb09bf59-f0eb-4ffd-ab0b-f3969c603e5e",
   "metadata": {},
   "outputs": [
    {
     "name": "stdout",
     "output_type": "stream",
     "text": [
      "Presidency University - <class 'str'>\n",
      "20 - <class 'int'>\n",
      "20.5 - <class 'float'>\n",
      "True - <class 'bool'>\n",
      "1j - <class 'complex'>\n",
      "['apple', 'banana', 'cherry'] - <class 'list'>\n",
      "('apple', 'banana', 'cherry') - <class 'tuple'>\n",
      "range(0, 3) - <class 'range'>\n",
      "{'name': 'John', 'age': 32} - <class 'dict'>\n",
      "{'apple', 'cherry', 'banana'} - <class 'set'>\n",
      "frozenset({'apple', 'cherry', 'banana'}) - <class 'frozenset'>\n",
      "b'Hi' - <class 'bytes'>\n",
      "bytearray(b'\\x00\\x00\\x00\\x00\\x00') - <class 'bytearray'>\n",
      "<memory at 0x0000027ACE0056C0> - <class 'memoryview'>\n",
      "None - <class 'NoneType'>\n"
     ]
    }
   ],
   "source": [
    "#Variables\n",
    "x=\"Presidency University\"\n",
    "print(x,'-',type(x))\n",
    "x = 20\n",
    "print(x,'-',type(x))\n",
    "x = 20.5\n",
    "print(x,'-',type(x))\n",
    "x = True\n",
    "print(x,'-',type(x))\n",
    "x = 1j\n",
    "print(x,'-',type(x))\n",
    "x = [\"apple\", \"banana\", \"cherry\"]\n",
    "print(x,'-',type(x))\n",
    "x = (\"apple\", \"banana\", \"cherry\")\n",
    "print(x,'-',type(x))\n",
    "x = range(3)\n",
    "print(x,'-',type(x))\n",
    "x = {\"name\" : \"John\", \"age\" : 32}\n",
    "print(x,'-',type(x))\n",
    "x = {\"apple\", \"banana\", \"cherry\"}\n",
    "print(x,'-',type(x))\n",
    "x = frozenset({\"apple\", \"banana\", \"cherry\"})\n",
    "print(x,'-',type(x))\n",
    "x = b\"Hi\"\n",
    "print(x,'-',type(x))\n",
    "x = bytearray(5)\n",
    "print(x,'-',type(x))\n",
    "x = memoryview(bytes(5))\n",
    "print(x,'-',type(x))\n",
    "x = None\n",
    "print(x,'-',type(x))"
   ]
  },
  {
   "cell_type": "code",
   "execution_count": 3,
   "id": "95745c59-1f55-4aff-b3d1-17116f804c2d",
   "metadata": {},
   "outputs": [
    {
     "data": {
      "text/plain": [
       "'\\nControl Statements\\n# statements\\n    if condition:\\n        break\\n    # statements after break statement\\n'"
      ]
     },
     "execution_count": 3,
     "metadata": {},
     "output_type": "execute_result"
    }
   ],
   "source": [
    "'''\n",
    "Control Statements\n",
    "# statements\n",
    "    if condition:\n",
    "        break\n",
    "    # statements after break statement\n",
    "'''"
   ]
  },
  {
   "cell_type": "code",
   "execution_count": 5,
   "id": "7cc0a21f-c953-4c63-b4e3-4aec07141d28",
   "metadata": {},
   "outputs": [
    {
     "name": "stdout",
     "output_type": "stream",
     "text": [
      "2000 is a leap year\n"
     ]
    }
   ],
   "source": [
    "year = 2000\n",
    "# divided by 100 means century year (ending with 00)\n",
    "# century year divided by 400 is leap year\n",
    "if (year % 400 == 0) and (year % 100 == 0):\n",
    "\tprint(\"{0} is a leap year\".format(year))\n",
    "# not divided by 100 means not a century year\n",
    "# year divided by 4 is a leap year\n",
    "elif (year % 4 ==0) and (year % 100 != 0):\n",
    "\tprint(\"{0} is a leap year\".format(year))\n",
    "# if not divided by both 400 (century year) and 4 (not century year)\n",
    "# year is not leap year\n",
    "else:\n",
    "\tprint(\"{0} is not a leap year\".format(year))"
   ]
  },
  {
   "cell_type": "code",
   "execution_count": 7,
   "id": "f0a894e5-262f-4df1-a08a-253730a7aaee",
   "metadata": {},
   "outputs": [
    {
     "name": "stdout",
     "output_type": "stream",
     "text": [
      "Itika of state Jaipur is eligible to vote\n"
     ]
    }
   ],
   "source": [
    "# Python program to show how to control the flow of loops with the break statement  \n",
    "Details = [[19, 'Itika', 'Jaipur'], [16, 'Aman', 'Bihar']]  \n",
    "for candidate in Details:  \n",
    "\tage = candidate[0]  \n",
    "\tif age <= 18:  \n",
    "\t\tbreak  \n",
    "\tprint (f\"{candidate[1]} of state {candidate[2]} is eligible to vote\")  "
   ]
  },
  {
   "cell_type": "code",
   "execution_count": 15,
   "id": "4592c51e-1bb8-4440-9db6-d7d92f9470a6",
   "metadata": {},
   "outputs": [
    {
     "name": "stdout",
     "output_type": "stream",
     "text": [
      "Aman of state Bihar\n"
     ]
    }
   ],
   "source": [
    "Details1=[[19, 'Itika', 'Jaipur'], [16, 'Aman', 'Bihar']]\n",
    "for candidate in Details:\n",
    "\tname=candidate[1]\n",
    "\tif name=='Aman':\n",
    "\t\tprint(f\"{candidate[1]} of state {candidate[2]}\")"
   ]
  },
  {
   "cell_type": "code",
   "execution_count": 9,
   "id": "1953c5a2-3ec2-46ab-a3ef-c1b1a8ed43fc",
   "metadata": {},
   "outputs": [
    {
     "name": "stdout",
     "output_type": "stream",
     "text": [
      "Letter:  D\n",
      "Letter:  t\n",
      "Letter:   \n",
      "Letter:  A\n",
      "Letter:  n\n",
      "Letter:  l\n",
      "Letter:  y\n",
      "Letter:  t\n",
      "Letter:  i\n",
      "Letter:  c\n",
      "Letter:  s\n",
      "Letter:   \n",
      "Letter:  n\n",
      "Letter:  d\n",
      "Letter:   \n",
      "Letter:  B\n",
      "Letter:  u\n",
      "Letter:  s\n",
      "Letter:  i\n",
      "Letter:  n\n",
      "Letter:  e\n",
      "Letter:  s\n",
      "Letter:  s\n",
      "Letter:   \n",
      "Letter:  I\n",
      "Letter:  n\n",
      "Letter:  t\n",
      "Letter:  e\n",
      "Letter:  l\n",
      "Letter:  l\n",
      "Letter:  i\n",
      "Letter:  g\n",
      "Letter:  e\n",
      "Letter:  n\n",
      "Letter:  c\n",
      "Letter:  e\n"
     ]
    }
   ],
   "source": [
    "# Python program to show how to control the flow of a loop using a continue statement  \n",
    "# Printing only the letters of the string  \n",
    "for i in 'Data Analytics and Business Intelligence':  \n",
    "\tif i == 'a':  \n",
    "\t\tcontinue  \n",
    "\tprint ('Letter: ', i)"
   ]
  },
  {
   "cell_type": "code",
   "execution_count": 17,
   "id": "1cd38e14-cfae-43a6-86f8-37e1b573e8c2",
   "metadata": {},
   "outputs": [
    {
     "name": "stdout",
     "output_type": "stream",
     "text": [
      "Letter:  D\n",
      "Letter:  a\n",
      "Letter:  t\n",
      "Letter:  a\n",
      "Letter:   \n",
      "Letter:  A\n",
      "Letter:  n\n",
      "Letter:  a\n",
      "Letter:  l\n",
      "Letter:  y\n",
      "Letter:  t\n",
      "Letter:  i\n",
      "Letter:  c\n",
      "Letter:  s\n",
      "Letter:   \n",
      "Letter:  a\n",
      "Letter:  n\n",
      "Letter:  d\n",
      "Letter:   \n",
      "Letter:  B\n",
      "Letter:  u\n",
      "Letter:  s\n",
      "Letter:  i\n",
      "Letter:  n\n",
      "Letter:  e\n",
      "Letter:  s\n",
      "Letter:  s\n",
      "Letter:   \n",
      "Letter:  I\n",
      "Letter:  n\n",
      "Letter:  t\n",
      "Letter:  e\n",
      "Letter:  l\n",
      "Letter:  l\n",
      "Letter:  i\n",
      "Letter:  g\n",
      "Letter:  e\n",
      "Letter:  n\n",
      "Letter:  c\n",
      "Letter:  e\n"
     ]
    }
   ],
   "source": [
    "# Python program to show how to create empty code blocks using a pass statement  \n",
    "for l in 'Data Analytics and Business Intelligence':  \n",
    "    if l == 'a':  \n",
    "        pass  \n",
    "    print('Letter: ', l)"
   ]
  },
  {
   "cell_type": "code",
   "execution_count": 22,
   "id": "1c09ecea-976d-4f11-ac74-3e1a4555fe73",
   "metadata": {},
   "outputs": [
    {
     "name": "stdout",
     "output_type": "stream",
     "text": [
      "Letter:  D\n"
     ]
    }
   ],
   "source": [
    "# Python program to show how to create empty code blocks using a pass statement  \n",
    "for l in 'Data Analytics and Business Intelligence':  \n",
    "\tif l == 'a':\n",
    "\t\tbreak\n",
    "\tprint('Letter: ', l)"
   ]
  },
  {
   "cell_type": "code",
   "execution_count": 24,
   "id": "5530b7d2-7d53-42b9-8dec-0c3ada476cec",
   "metadata": {},
   "outputs": [
    {
     "name": "stdout",
     "output_type": "stream",
     "text": [
      "[1, 2, 3, 15, 5, 4, 7, 8, 0, 10]\n",
      "After applying remove() [1, 2, 3, 15, 5, 4, 7, 0, 10]\n",
      "After applying pop() [1, 2, 3, 5, 4, 7, 0, 10]\n",
      "Slicing [3, 5]\n",
      "After applying reverse() None\n",
      "Length of list 8\n",
      "Min value 0\n",
      "Max value 10\n",
      "No .occurences of 1 1\n"
     ]
    }
   ],
   "source": [
    "#List\n",
    "myList = [1, 2, 3, 5,4]\n",
    "myList.append(7)#onlysinglevalue\n",
    "myList.extend([8,0,10])#multiplevalue\n",
    "myList.insert(3, 15)#index of 3 add 15\n",
    "print(myList)#1,2,3,15,5,4,7,8,0,10\n",
    "myList.remove(8)#remove value 8\n",
    "print('After applying remove()',myList)#1,2,3,15,5,4,7,0,10\n",
    "myList.pop(3)#remove value from index 3\n",
    "print('After applying pop()',myList)#1,2,3,5,4,7,0,10\n",
    "print('Slicing',myList[2:4])#3,5\n",
    "print('After applying reverse()',myList.reverse())#none\n",
    "print('Length of list',len(myList))#8\n",
    "print('Min value',min(myList))#0\n",
    "print('Max value',max(myList))#10\n",
    "print('No .occurences of 1',myList.count(1))#1"
   ]
  },
  {
   "cell_type": "code",
   "execution_count": 26,
   "id": "ea068a39-038d-42cf-b10f-a0cdd3c4edda",
   "metadata": {},
   "outputs": [
    {
     "name": "stdout",
     "output_type": "stream",
     "text": [
      "['apple', 'banana', 'mango']\n"
     ]
    }
   ],
   "source": [
    "#List comprehension\n",
    "fruits = [\"apple\", \"banana\", \"cherry\", \"kiwi\", \"mango\"]\n",
    "newlist = [x for x in fruits if \"a\" in x]\n",
    "print(newlist)"
   ]
  },
  {
   "cell_type": "code",
   "execution_count": 28,
   "id": "11ff1a4c-fa3b-4145-97bd-99d0a482a371",
   "metadata": {},
   "outputs": [
    {
     "name": "stdout",
     "output_type": "stream",
     "text": [
      "3\n",
      "1\n",
      "6\n",
      "[1, 2, 2, 2, 3, 4]\n",
      "1\n",
      "4\n",
      "(1, 2, 3, 2, 4, 2, 1, 2, 3, 2, 4, 2, 1, 2, 3, 2, 4, 2)\n"
     ]
    },
    {
     "ename": "NameError",
     "evalue": "name 'my_tuple' is not defined",
     "output_type": "error",
     "traceback": [
      "\u001b[1;31m---------------------------------------------------------------------------\u001b[0m",
      "\u001b[1;31mNameError\u001b[0m                                 Traceback (most recent call last)",
      "Cell \u001b[1;32mIn[28], line 21\u001b[0m\n\u001b[0;32m     19\u001b[0m \u001b[38;5;28;01mdel\u001b[39;00m my_tuple\n\u001b[0;32m     20\u001b[0m \u001b[38;5;66;03m# Trying to access the tuple after deletion will raise an error\u001b[39;00m\n\u001b[1;32m---> 21\u001b[0m \u001b[38;5;28mprint\u001b[39m(my_tuple)\n",
      "\u001b[1;31mNameError\u001b[0m: name 'my_tuple' is not defined"
     ]
    }
   ],
   "source": [
    "#Tuple\n",
    "my_tuple = (1, 2, 3, 2, 4, 2)\n",
    "# Counting the number of occurrences of 2\n",
    "count = my_tuple.count(2)\n",
    "print(count) \n",
    "# Finding the index of the first occurrence of 2\n",
    "index = my_tuple.index(2)\n",
    "print(index)\n",
    "length = len(my_tuple)\n",
    "print(length)       \n",
    "sorted_tuple = sorted(my_tuple)\n",
    "print(sorted_tuple)  \n",
    "smallest = min(my_tuple)\n",
    "print(smallest) \n",
    "# Finding the largest element in the tuple\n",
    "largest = max(my_tuple)\n",
    "print(largest)  \n",
    "replicated_tuple = my_tuple * 3\n",
    "print(replicated_tuple) \n",
    "del my_tuple\n",
    "# Trying to access the tuple after deletion will raise an error\n",
    "print(my_tuple) #error"
   ]
  },
  {
   "cell_type": "code",
   "execution_count": null,
   "id": "bcb55c88-df4e-4509-a975-3b3e555bcbaf",
   "metadata": {},
   "outputs": [],
   "source": [
    "#Dictionary\n",
    "d = {'1': 'Machine Learning', '2': 'Deep Learning', '3': 'Data Mining'} \n",
    "print('List of keys:',list(d.keys()))\n",
    "print('List of values:',list(d.values()))\n",
    "print('Value for 1:',d.get('1')) \n",
    "d2 = {'4': 'Java', '5': 'Data Science'} \n",
    "d.update(d2)\n",
    "print('Access key at[1,0]:',list(d.items())[1][0])  # access to key using the index value\n",
    "print('Access key at[1,1]:',list(d.items())[1][1])# access to values using the index value\n",
    "d.pop('5')\n",
    "print('After deletion of key 5',d)\n",
    "d.popitem()  # Pops the last item\n",
    "print('After popitem()',d) \n",
    "d.clear() \n",
    "print(d)"
   ]
  },
  {
   "cell_type": "code",
   "execution_count": 30,
   "id": "0054b09a-f4e3-4df0-8967-1141dbbaab67",
   "metadata": {},
   "outputs": [
    {
     "name": "stdout",
     "output_type": "stream",
     "text": [
      "2.718281828459045\n",
      "The ceil of 2.3 is :  3\n",
      "The floor of 2.3 is :  2\n",
      "The factorial of 5 is :  120\n",
      "The gcd of 5 and 15 is :  5\n",
      "The absolute value of -10 is :  10.0\n",
      "54.598150033144236\n",
      "0.049787068367863944\n",
      "1.0\n",
      "81\n",
      "The value of log 2 with base 3 is :  0.6309297535714574\n",
      "The value of log2 of 16 is :  4.0\n",
      "The value of log10 of 10000 is :  4.0\n",
      "Square root of 3.5 1.8708286933869707\n",
      "The value of sine of 0.90 is :  0.7833269096274834\n",
      "The value of cosine of 0.90 is :  0.6216099682706644\n",
      "The value of tangent of 0.90 is :  1.2601582175503392\n",
      "The converted value from radians to degrees is :  51.56620156177409\n",
      "The converted value from degrees to radians is :  0.015707963267948967\n",
      "The gamma value of the given argument is :  1.068628702119319\n",
      "False\n",
      "False\n"
     ]
    }
   ],
   "source": [
    "#Functions using math\n",
    "import math \n",
    "print (math.e)\n",
    "print (\"The ceil of 2.3 is : \", math.ceil(2.3)) \n",
    "print (\"The floor of 2.3 is : \", math.floor(2.3)) \n",
    "print(\"The factorial of 5 is : \", math.factorial(5))\n",
    "print (\"The gcd of 5 and 15 is : \", math.gcd(15,5)) \n",
    "print (\"The absolute value of -10 is : \", math.fabs(-10)) \n",
    "print (math.exp(4)) \n",
    "print (math.exp(-3)) \n",
    "print (math.exp(0.0))\n",
    "print (pow(3,4))\n",
    "print (\"The value of log 2 with base 3 is : \", math.log(2,3)) \n",
    "print (\"The value of log2 of 16 is : \",math.log2(16)) \n",
    "print (\"The value of log10 of 10000 is : \", math.log10(10000)) \n",
    "print('Square root of 3.5',math.sqrt(3.5))\n",
    "print (\"The value of sine of 0.90 is : \", math.sin(0.90)) \n",
    "print (\"The value of cosine of 0.90 is : \", math.cos(0.90)) \n",
    "print (\"The value of tangent of 0.90 is : \", math.tan(0.90)) \n",
    "print (\"The converted value from radians to degrees is : \", math.degrees(0.90)) \n",
    "print (\"The converted value from degrees to radians is : \", math.radians(0.90)) \n",
    "print (\"The gamma value of the given argument is : \", str(math.gamma(0.90))) \n",
    "print (math.isinf(math.pi)) \n",
    "print (math.isnan(math.pi)) "
   ]
  },
  {
   "cell_type": "code",
   "execution_count": 32,
   "id": "d69c6599-1d88-4dff-a075-397d29ffadeb",
   "metadata": {},
   "outputs": [
    {
     "name": "stdout",
     "output_type": "stream",
     "text": [
      "7\n",
      "0.6229016948897019\n",
      "Random number between -10 and -2 is -5\n",
      "[7, 5, 1]\n"
     ]
    }
   ],
   "source": [
    "import random\n",
    "from random import sample\n",
    "list1 = [1, 2, 3, 4, 5, 7]\n",
    "print(random.choice(list1))\n",
    "random.seed(5)\n",
    "print(random.random())\n",
    "r2 = random.randint(-10, -2)\n",
    "print(\"Random number between -10 and -2 is % d\" % (r2))\n",
    "print(sample(list1,3))\n",
    "random.shuffle(list1)"
   ]
  },
  {
   "cell_type": "code",
   "execution_count": null,
   "id": "fa8d41f9-016e-4fdd-ae8c-f9dcde6458a3",
   "metadata": {},
   "outputs": [],
   "source": []
  }
 ],
 "metadata": {
  "kernelspec": {
   "display_name": "Python 3 (ipykernel)",
   "language": "python",
   "name": "python3"
  },
  "language_info": {
   "codemirror_mode": {
    "name": "ipython",
    "version": 3
   },
   "file_extension": ".py",
   "mimetype": "text/x-python",
   "name": "python",
   "nbconvert_exporter": "python",
   "pygments_lexer": "ipython3",
   "version": "3.12.7"
  }
 },
 "nbformat": 4,
 "nbformat_minor": 5
}
